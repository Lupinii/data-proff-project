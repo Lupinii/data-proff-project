{
 "cells": [
  {
   "cell_type": "markdown",
   "id": "ea386680",
   "metadata": {},
   "source": [
    "First Project "
   ]
  },
  {
   "cell_type": "markdown",
   "id": "b8e01318",
   "metadata": {},
   "source": [
    "1. Load Data"
   ]
  },
  {
   "cell_type": "code",
   "execution_count": null,
   "id": "c9d7c38e",
   "metadata": {},
   "outputs": [],
   "source": [
    "import pandas as pd\n",
    "import numpy as np\n",
    "df = pd.read_csv('delaney_solubility_with_descriptors.csv')\n",
    "df"
   ]
  },
  {
   "cell_type": "markdown",
   "id": "97b27cbc",
   "metadata": {},
   "source": [
    "2. Data Preparation as X and y."
   ]
  },
  {
   "cell_type": "code",
   "execution_count": null,
   "id": "2853786e",
   "metadata": {},
   "outputs": [],
   "source": [
    "y = df['logS']"
   ]
  },
  {
   "cell_type": "code",
   "execution_count": null,
   "id": "93491a1b",
   "metadata": {},
   "outputs": [],
   "source": [
    "X = df.drop('logS', axis=1)"
   ]
  },
  {
   "cell_type": "markdown",
   "id": "f8a6df5d",
   "metadata": {},
   "source": [
    "3. Data Spliting."
   ]
  },
  {
   "cell_type": "code",
   "execution_count": null,
   "id": "4e18bb52",
   "metadata": {},
   "outputs": [],
   "source": [
    "from sklearn.model_selection import train_test_split\n",
    "\n",
    "X_train, X_test, y_train, y_test = train_test_split(\n",
    "    X, \n",
    "    y, \n",
    "    test_size=0.2, \n",
    "    random_state=100)\n",
    "\n",
    "X_train"
   ]
  },
  {
   "cell_type": "markdown",
   "id": "8915e82a",
   "metadata": {},
   "source": [
    "Model Building"
   ]
  },
  {
   "cell_type": "markdown",
   "id": "d9c65604",
   "metadata": {},
   "source": [
    "Linear Regression"
   ]
  },
  {
   "cell_type": "code",
   "execution_count": null,
   "id": "f0dd59b8",
   "metadata": {},
   "outputs": [],
   "source": [
    "from sklearn.linear_model import LinearRegression\n",
    "\n",
    "lr = LinearRegression()\n",
    "lr.fit(X_train, y_train)"
   ]
  },
  {
   "cell_type": "code",
   "execution_count": null,
   "id": "17c9882d",
   "metadata": {},
   "outputs": [],
   "source": [
    "y_lr_train_pred = lr.predict(X_train)\n",
    "y_lr_test_pred = lr.predict(X_test)\n",
    "\n",
    "y_lr_train_pred"
   ]
  },
  {
   "cell_type": "code",
   "execution_count": null,
   "id": "43834dba",
   "metadata": {},
   "outputs": [],
   "source": [
    "y_lr_test_pred"
   ]
  },
  {
   "cell_type": "markdown",
   "id": "80d34b76",
   "metadata": {},
   "source": [
    "Evaluate Model Perfomance"
   ]
  },
  {
   "cell_type": "code",
   "execution_count": null,
   "id": "ca834492",
   "metadata": {},
   "outputs": [],
   "source": [
    "from sklearn.metrics import mean_squared_error, r2_score\n",
    "\n",
    "lr_train_mse = mean_squared_error(y_train, y_lr_train_pred)\n",
    "lr_train_r2 = r2_score(y_train, y_lr_train_pred)\n",
    "\n",
    "lr_test_mse = mean_squared_error(y_test, y_lr_test_pred)\n",
    "lr_test_r2 = r2_score(y_test, y_lr_test_pred)\n",
    "\n",
    "print('LR MSE (Train):', lr_train_mse)\n",
    "print('LR R2 (Train):', lr_train_r2)\n",
    "print('LR MSE (Test):', lr_test_mse)\n",
    "print('LR R2 (Test):', lr_test_r2)"
   ]
  },
  {
   "cell_type": "code",
   "execution_count": null,
   "id": "8e53fa40",
   "metadata": {},
   "outputs": [],
   "source": [
    "lr_results = pd.DataFrame(['linear_regression', lr_train_mse, lr_train_r2, lr_test_mse, lr_test_r2]).transpose()\n",
    "lr_results.columns = ['model', 'Training MSE', 'Training R2', 'Test MSE', 'Test R2']  \n",
    "lr_results           "
   ]
  },
  {
   "cell_type": "code",
   "execution_count": null,
   "id": "7c8f2bbc",
   "metadata": {},
   "outputs": [],
   "source": [
    "from sklearn.metrics import accuracy_score\n",
    "# Accuracy is not applicable for regression tasks, so we won't use it here."
   ]
  },
  {
   "cell_type": "code",
   "execution_count": null,
   "id": "e29eb4cf",
   "metadata": {},
   "outputs": [],
   "source": [
    "\n",
    "# Create a DataFrame to compare train predictions vs actual\n",
    "train_results = pd.DataFrame({\n",
    "    'Actual': y_train,\n",
    "    'Predicted': y_lr_train_pred,\n",
    "    'Error': y_train - y_lr_train_pred\n",
    "})\n",
    "print(train_results.head(10))"
   ]
  },
  {
   "cell_type": "code",
   "execution_count": null,
   "id": "0a1876df",
   "metadata": {},
   "outputs": [],
   "source": []
  }
 ],
 "metadata": {
  "kernelspec": {
   "display_name": "py310-env",
   "language": "python",
   "name": "python3"
  },
  "language_info": {
   "codemirror_mode": {
    "name": "ipython",
    "version": 3
   },
   "file_extension": ".py",
   "mimetype": "text/x-python",
   "name": "python",
   "nbconvert_exporter": "python",
   "pygments_lexer": "ipython3",
   "version": "3.10.16"
  }
 },
 "nbformat": 4,
 "nbformat_minor": 5
}
